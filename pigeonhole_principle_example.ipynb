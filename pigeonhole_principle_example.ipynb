{
  "nbformat": 4,
  "nbformat_minor": 0,
  "metadata": {
    "colab": {
      "name": "Untitled1.ipynb",
      "version": "0.3.2",
      "provenance": [],
      "include_colab_link": true
    },
    "kernelspec": {
      "name": "python3",
      "display_name": "Python 3"
    }
  },
  "cells": [
    {
      "cell_type": "markdown",
      "metadata": {
        "id": "view-in-github",
        "colab_type": "text"
      },
      "source": [
        "<a href=\"https://colab.research.google.com/github/hozgeyilmaz/asiio_odev_1/blob/master/pigeonhole_principle_example.ipynb\" target=\"_parent\"><img src=\"https://colab.research.google.com/assets/colab-badge.svg\" alt=\"Open In Colab\"/></a>"
      ]
    },
    {
      "metadata": {
        "id": "jY2dI7Fbom77",
        "colab_type": "text"
      },
      "cell_type": "markdown",
      "source": [
        "Ayrık Sistemler için İleri olasılık 1. ödev: Güvercin Yuvası Prensibi:\n",
        "Bu ilke şuna dayanmaktadır: N ve k pozitif tamsayılar ve N>k olmak üzere N nesne k kutuya yerleştirildiğinde öyle bir kutu vardır ki o kutuda birden çok nesne bulunmak zorundadır. "
      ]
    },
    {
      "metadata": {
        "id": "C3weaj-_pJ6d",
        "colab_type": "text"
      },
      "cell_type": "markdown",
      "source": [
        "Bununla ilgili çözümlediğim soru aşağıdaki gibidir:\n",
        "Bir bölümde bulunan 13 akademisyen vardır.  Aynı ayda doğmuş olan en az kaç akademisyen olduğunu güvercin yuvası prensibine göre hesaplayınız."
      ]
    },
    {
      "metadata": {
        "id": "a-nNLGRDpU--",
        "colab_type": "code",
        "colab": {}
      },
      "cell_type": "code",
      "source": [
        "import math\n",
        "n=12\n",
        "m=13"
      ],
      "execution_count": 0,
      "outputs": []
    },
    {
      "metadata": {
        "id": "KKElckJJpsr7",
        "colab_type": "text"
      },
      "cell_type": "markdown",
      "source": [
        "güvercin Yuvası Prensibine göre\n",
        "\n",
        "yuva= n\n",
        "\n",
        "güvercin= m olsun\n",
        "\n",
        "\n",
        "\n"
      ]
    },
    {
      "metadata": {
        "id": "UZB4XG4Fp-dx",
        "colab_type": "code",
        "colab": {
          "base_uri": "https://localhost:8080/",
          "height": 34
        },
        "outputId": "19fa67f4-aadb-498e-ca57-718ef257fde9"
      },
      "cell_type": "code",
      "source": [
        "if m > n:\n",
        "\n",
        " x= math.ceil(m/n)\n",
        "print(\" 13 akademisyenden en az \",x, \"tanesi aynı ayda dogmustur\")"
      ],
      "execution_count": 2,
      "outputs": [
        {
          "output_type": "stream",
          "text": [
            " 13 akademisyenden en az  2 tanesi aynı ayda dogmustur\n"
          ],
          "name": "stdout"
        }
      ]
    },
    {
      "metadata": {
        "id": "pJpp8gzbqeQe",
        "colab_type": "text"
      },
      "cell_type": "markdown",
      "source": [
        "N = akademisyen sayısı =13\n",
        "\n",
        "k= aylar =12\n",
        "\n",
        "Güvercin Yuvası Prensibi'ne göre:\n",
        "\n",
        "Eğer N>k ise en az bir ayda  ceil(N/k) kişi doğmuş olacaktır. \n",
        "\n",
        "Buna göre\n",
        "\n",
        "13>12 olduğu için => aynı ayda doğmuş kişi sayısı ceil( 13/12)  = ceil(1.0833333333333333)= 2'dir."
      ]
    }
  ]
}